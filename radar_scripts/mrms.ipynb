{
 "cells": [
  {
   "cell_type": "markdown",
   "id": "73c4f719-90f5-4767-8554-7e32d762e604",
   "metadata": {},
   "source": [
    "# Radar Mosiac Plotting\n",
    "\n",
    "This notebook is an example of downloading, gridding, and plotting radar mosiacs"
   ]
  },
  {
   "cell_type": "code",
   "execution_count": 1,
   "id": "a4c0932b-f1c0-47fb-b51e-db26c8350b2d",
   "metadata": {},
   "outputs": [
    {
     "name": "stdout",
     "output_type": "stream",
     "text": [
      "\n",
      "## You are using the Python ARM Radar Toolkit (Py-ART), an open source\n",
      "## library for working with weather radar data. Py-ART is partly\n",
      "## supported by the U.S. Department of Energy as part of the Atmospheric\n",
      "## Radiation Measurement (ARM) Climate Research Facility, an Office of\n",
      "## Science user facility.\n",
      "##\n",
      "## If you use this software to prepare a publication, please cite:\n",
      "##\n",
      "##     JJ Helmus and SM Collis, JORS 2016, doi: 10.5334/jors.119\n",
      "\n"
     ]
    },
    {
     "ename": "ModuleNotFoundError",
     "evalue": "No module named 'mpl_toolkits.basemap'",
     "output_type": "error",
     "traceback": [
      "\u001b[0;31m---------------------------------------------------------------------------\u001b[0m",
      "\u001b[0;31mModuleNotFoundError\u001b[0m                       Traceback (most recent call last)",
      "Cell \u001b[0;32mIn[1], line 25\u001b[0m\n\u001b[1;32m     21\u001b[0m \u001b[38;5;28;01mimport\u001b[39;00m \u001b[38;5;21;01mzipfile\u001b[39;00m\n\u001b[1;32m     23\u001b[0m \u001b[38;5;28;01mimport\u001b[39;00m \u001b[38;5;21;01mshutil\u001b[39;00m\n\u001b[0;32m---> 25\u001b[0m \u001b[38;5;28;01mimport\u001b[39;00m \u001b[38;5;21;01mmmmpy\u001b[39;00m\n",
      "File \u001b[0;32m~/Weather_Analysis_Scripts/radar_scripts/mmmpy.py:44\u001b[0m\n\u001b[1;32m     42\u001b[0m \u001b[38;5;28;01mfrom\u001b[39;00m \u001b[38;5;21;01mmatplotlib\u001b[39;00m \u001b[38;5;28;01mimport\u001b[39;00m pyplot \u001b[38;5;28;01mas\u001b[39;00m plt\n\u001b[1;32m     43\u001b[0m \u001b[38;5;28;01mimport\u001b[39;00m \u001b[38;5;21;01mdatetime\u001b[39;00m\n\u001b[0;32m---> 44\u001b[0m \u001b[38;5;28;01mfrom\u001b[39;00m \u001b[38;5;21;01mmpl_toolkits\u001b[39;00m\u001b[38;5;21;01m.\u001b[39;00m\u001b[38;5;21;01mbasemap\u001b[39;00m \u001b[38;5;28;01mimport\u001b[39;00m Basemap, cm\n\u001b[1;32m     45\u001b[0m \u001b[38;5;28;01mfrom\u001b[39;00m \u001b[38;5;21;01mnetCDF4\u001b[39;00m \u001b[38;5;28;01mimport\u001b[39;00m Dataset\n\u001b[1;32m     46\u001b[0m \u001b[38;5;28;01mfrom\u001b[39;00m \u001b[38;5;21;01mstruct\u001b[39;00m \u001b[38;5;28;01mimport\u001b[39;00m unpack\n",
      "\u001b[0;31mModuleNotFoundError\u001b[0m: No module named 'mpl_toolkits.basemap'"
     ]
    }
   ],
   "source": [
    "import matplotlib.pyplot as plt\n",
    "import matplotlib.colors as mcolors\n",
    "\n",
    "import cartopy.crs as ccrs\n",
    "import cartopy.feature as cfeature\n",
    "\n",
    "import requests\n",
    "\n",
    "from datetime import datetime, timedelta\n",
    "from netCDF4 import Dataset\n",
    "\n",
    "import glob\n",
    "import os\n",
    "\n",
    "import pyart\n",
    "\n",
    "import pandas as pd\n",
    "\n",
    "import numpy as np\n",
    "\n",
    "import zipfile\n",
    "\n",
    "import shutil\n",
    "\n",
    "import mmmpy"
   ]
  },
  {
   "cell_type": "code",
   "execution_count": null,
   "id": "51635b78-ccd1-49b3-9488-d556f8b7c39a",
   "metadata": {},
   "outputs": [],
   "source": [
    "#set date and location bounds\n",
    "#set time to plot (no leading zeros)\n",
    "year  = 2024\n",
    "month = 05\n",
    "day   = 06\n",
    "hour  = 2\n",
    "minute = 45\n",
    "    \n",
    "lat_min = 40\n",
    "lat_max = 50\n",
    "lon_min = -105\n",
    "lon_max = -85\n",
    "\n",
    "dt = datetime(year,month,day,hour,minute)\n",
    "url = 'https://mrms.agron.iastate.edu/' + dt.strftime('%Y/%m/%d/%Y%m%d%H') + '.zip'\n",
    "print(dt.hour)"
   ]
  },
  {
   "cell_type": "code",
   "execution_count": null,
   "id": "8ef253d1-e608-47b9-b026-c967ba39d34a",
   "metadata": {},
   "outputs": [],
   "source": [
    "#remove any old data\n",
    "try:\n",
    "    shutil.rmtree('./mrms_data')\n",
    "except:\n",
    "    pass\n",
    "\n",
    "os.mkdir('./mrms_data')\n",
    "\n",
    "dt = datetime(year,month,day,hour,minute)\n",
    "\n",
    "#download file and extract\n",
    "outfile =  './mrms_data/' + dt.strftime('%Y%m%d%H') + '.zip'\n",
    "url = 'https://mrms.agron.iastate.edu/' + dt.strftime('%Y/%m/%d/%Y%m%d%H') + '.zip'\n",
    "\n",
    "r = requests.get(url,allow_redirects=True)\n",
    "open(outfile,'wb').write(r.content)\n",
    "with zipfile.ZipFile(outfile,'r') as zip_ref:\n",
    "    zip_ref.extractall('./mrms_data/')\n"
   ]
  },
  {
   "cell_type": "code",
   "execution_count": 2,
   "id": "25fccb39-fcab-4b68-8f5b-bbcf9135d473",
   "metadata": {},
   "outputs": [
    {
     "ename": "NameError",
     "evalue": "name 'mmmpy' is not defined",
     "output_type": "error",
     "traceback": [
      "\u001b[0;31m---------------------------------------------------------------------------\u001b[0m",
      "\u001b[0;31mNameError\u001b[0m                                 Traceback (most recent call last)",
      "Cell \u001b[0;32mIn[2], line 4\u001b[0m\n\u001b[1;32m      1\u001b[0m path \u001b[38;5;241m=\u001b[39m \u001b[38;5;124m'\u001b[39m\u001b[38;5;124m./mrms_data/*/CONUS/MergedBaseReflectivity/*\u001b[39m\u001b[38;5;124m'\u001b[39m\n\u001b[1;32m      3\u001b[0m dat_file \u001b[38;5;241m=\u001b[39m \u001b[38;5;28msorted\u001b[39m(glob\u001b[38;5;241m.\u001b[39mglob(path))[\u001b[38;5;241m0\u001b[39m]\n\u001b[0;32m----> 4\u001b[0m mosaic \u001b[38;5;241m=\u001b[39m mmmpy\u001b[38;5;241m.\u001b[39mMosaicTile(dat_file)\n\u001b[1;32m      6\u001b[0m \u001b[38;5;28mprint\u001b[39m(datetime\u001b[38;5;241m.\u001b[39mutcfromtimestamp(mosaic\u001b[38;5;241m.\u001b[39mTime))\n",
      "\u001b[0;31mNameError\u001b[0m: name 'mmmpy' is not defined"
     ]
    }
   ],
   "source": [
    "path = './mrms_data/*/CONUS/MergedBaseReflectivity/*'\n",
    "\n",
    "dat_file = sorted(glob.glob(path))[0]\n",
    "mosaic = mmmpy.MosaicTile(dat_file)\n",
    "\n",
    "print(datetime.utcfromtimestamp(mosaic.Time))"
   ]
  },
  {
   "cell_type": "code",
   "execution_count": 3,
   "id": "ed2a5fdb-ae49-4cbe-878a-6cee82412180",
   "metadata": {},
   "outputs": [
    {
     "ename": "NameError",
     "evalue": "name 'lon_min' is not defined",
     "output_type": "error",
     "traceback": [
      "\u001b[0;31m---------------------------------------------------------------------------\u001b[0m",
      "\u001b[0;31mNameError\u001b[0m                                 Traceback (most recent call last)",
      "Cell \u001b[0;32mIn[3], line 1\u001b[0m\n\u001b[0;32m----> 1\u001b[0m ext \u001b[38;5;241m=\u001b[39m [lon_min, lon_max, lat_min, lat_max]\n\u001b[1;32m      2\u001b[0m fig \u001b[38;5;241m=\u001b[39m plt\u001b[38;5;241m.\u001b[39mfigure(figsize\u001b[38;5;241m=\u001b[39m(\u001b[38;5;241m8\u001b[39m, \u001b[38;5;241m8\u001b[39m), dpi\u001b[38;5;241m=\u001b[39m\u001b[38;5;241m200\u001b[39m)\n\u001b[1;32m      3\u001b[0m projection \u001b[38;5;241m=\u001b[39m ccrs\u001b[38;5;241m.\u001b[39mPlateCarree()\n",
      "\u001b[0;31mNameError\u001b[0m: name 'lon_min' is not defined"
     ]
    }
   ],
   "source": [
    "ext = [lon_min, lon_max, lat_min, lat_max]\n",
    "fig = plt.figure(figsize=(8, 8), dpi=200)\n",
    "projection = ccrs.PlateCarree()\n",
    "ax = plt.axes(projection=projection)\n",
    "ax.set_extent(ext)\n",
    "\n",
    "# Create a feature for States/Admin 1 regions at 1:10m from Natural Earth\n",
    "ax.add_feature(cfeature.STATES,edgecolor='k',linewidth=0.7)\n",
    "ax.add_feature(cfeature.COASTLINE,edgecolor='k',linewidth=1.0)\n",
    "\n",
    "mosaic.get_comp()\n",
    "valmask = np.ma.masked_where(mosaic.mrefl3d_comp <= 0, mosaic.mrefl3d_comp)\n",
    "cs = plt.pcolormesh(mosaic.Longitude, mosaic.Latitude, valmask, vmin=0, vmax=50,\n",
    "                    cmap='pyart_HomeyerRainbow', transform=projection)\n",
    "plt.colorbar(cs, label='Composite Reflectivity (dBZ)',\n",
    "             orientation='horizontal', pad=0.05, shrink=0.75, fraction=0.05, aspect=30)\n",
    "plt.title(dt.strftime('%m/%d/%Y %H:%M UTC'))\n",
    "outfile_date = dt.strftime('%Y%m%d_%H%M')\n",
    "fig.tight_layout()\n",
    "fig.savefig(f'{outfile_date}_mosaic.png',bbox_inches='tight')"
   ]
  },
  {
   "cell_type": "code",
   "execution_count": null,
   "id": "8c610787-1836-4993-9c2a-bb1093a37283",
   "metadata": {},
   "outputs": [],
   "source": []
  },
  {
   "cell_type": "code",
   "execution_count": null,
   "id": "e053feab-e011-40cb-894b-c42edf33d7a3",
   "metadata": {},
   "outputs": [],
   "source": []
  },
  {
   "cell_type": "code",
   "execution_count": null,
   "id": "a0ec0aba-c087-42ab-9b67-7345b38ac341",
   "metadata": {},
   "outputs": [],
   "source": []
  },
  {
   "cell_type": "code",
   "execution_count": null,
   "id": "ed2e8297-dfab-4d6e-bfea-390db178ac3e",
   "metadata": {},
   "outputs": [],
   "source": []
  },
  {
   "cell_type": "code",
   "execution_count": null,
   "id": "333f1862-62ea-4903-bf5c-64c922a24210",
   "metadata": {},
   "outputs": [],
   "source": []
  },
  {
   "cell_type": "code",
   "execution_count": null,
   "id": "094d875f-3005-4c9a-9555-546b30419ba0",
   "metadata": {},
   "outputs": [],
   "source": []
  }
 ],
 "metadata": {
  "kernelspec": {
   "display_name": "Python 3 (ipykernel)",
   "language": "python",
   "name": "python3"
  },
  "language_info": {
   "codemirror_mode": {
    "name": "ipython",
    "version": 3
   },
   "file_extension": ".py",
   "mimetype": "text/x-python",
   "name": "python",
   "nbconvert_exporter": "python",
   "pygments_lexer": "ipython3",
   "version": "3.11.9"
  }
 },
 "nbformat": 4,
 "nbformat_minor": 5
}
