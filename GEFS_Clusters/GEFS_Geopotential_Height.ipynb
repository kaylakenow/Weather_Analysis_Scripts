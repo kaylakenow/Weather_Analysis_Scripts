{
 "cells": [
  {
   "cell_type": "markdown",
   "id": "7d4609ca",
   "metadata": {},
   "source": [
    "## GFS ENSEMBLE FORECAST SYSTEM (GEFS) Geopotential Height"
   ]
  },
  {
   "cell_type": "code",
   "execution_count": 1,
   "id": "e8625bce",
   "metadata": {},
   "outputs": [],
   "source": [
    "import boto3\n",
    "from botocore import UNSIGNED\n",
    "from botocore.config import Config\n",
    "\n",
    "from datetime import datetime, timedelta\n",
    "from netCDF4 import Dataset\n",
    "\n",
    "import cartopy.crs as ccrs\n",
    "import cartopy.feature as cfeature\n",
    "import matplotlib.pyplot as plt\n",
    "import matplotlib.colors as mcolors\n",
    "import glob\n",
    "\n",
    "import numpy as np\n",
    "import os"
   ]
  },
  {
   "cell_type": "code",
   "execution_count": 68,
   "id": "6af2c468",
   "metadata": {},
   "outputs": [],
   "source": [
    "dt = datetime(2023,12,20,6,0)\n",
    "\n",
    "n_members = 30\n",
    "\n",
    "gefs_bucket = 'noaa-gefs-pds'\n",
    "\n",
    "s3 = boto3.resource('s3', config=Config(signature_version=UNSIGNED))\n",
    "s3_client = boto3.client('s3', config=Config(signature_version=UNSIGNED))\n",
    "bucket = s3.Bucket(gefs_bucket)\n",
    "\n",
    "control_path = f'gefs.{dt:%Y}{dt:%m}{dt:%d}/{dt:%H}/atmos/pgrb2ap5/gec00.t{dt:%H}z.pgrb2a.0p50.f'\n",
    "\n",
    "objs = bucket.objects.filter(Prefix=control_path)\n",
    "files = np.array([i.key for i in objs])\n",
    "control_files = np.array([i for i in files if \"idx\" not in i],dtype=\"S59\")\n",
    "\n",
    "ensemble_files = np.empty((n_members,len(control_files)),dtype=\"S59\")\n",
    "\n",
    "for i in range(n_members):\n",
    "    member_path = f'gefs.{dt:%Y}{dt:%m}{dt:%d}/{dt:%H}/atmos/pgrb2ap5/gep{i+1:02}.t{dt:%H}z.pgrb2a.0p50.f'\n",
    "    objs = bucket.objects.filter(Prefix=member_path)\n",
    "    files = np.array([i.key for i in objs])\n",
    "    member_files = np.array([i for i in files if \"idx\" not in i])\n",
    "    #print(member_files)\n",
    "    ensemble_files[i] = member_files\n"
   ]
  },
  {
   "cell_type": "markdown",
   "id": "dda7cc82",
   "metadata": {},
   "source": [
    "### Grab every 12 hourly file\n",
    "\n"
   ]
  },
  {
   "cell_type": "code",
   "execution_count": 77,
   "id": "ad52ac6f",
   "metadata": {},
   "outputs": [],
   "source": [
    "fhours = np.arange(0,385,12)\n",
    "\n",
    "all_files = np.empty((len(fhours),n_members+1),dtype=\"S59\")\n",
    "\n",
    "\n",
    "for h in range(len(fhours)):\n",
    "    all_files[h,0] = [i for i in control_files if b\"f%03i\"%(fhours[h]) in i][0]\n",
    "    for m in range(n_members):\n",
    "        all_files[h,m+1] = [i for i in ensemble_files[m] if b\"f%03i\"%(fhours[h]) in i][0]\n"
   ]
  },
  {
   "cell_type": "markdown",
   "id": "bde78a08",
   "metadata": {},
   "source": [
    "### Download all the files -_-"
   ]
  },
  {
   "cell_type": "code",
   "execution_count": null,
   "id": "4e072443",
   "metadata": {},
   "outputs": [],
   "source": [
    "for h in range(len(fhours)):\n",
    "    for m in range(n_members):\n",
    "        s3_client.download_file(gefs_bucket, all_files[h,m], 'gefs_m.nc')\n"
   ]
  }
 ],
 "metadata": {
  "kernelspec": {
   "display_name": "Python 3 (ipykernel)",
   "language": "python",
   "name": "python3"
  },
  "language_info": {
   "codemirror_mode": {
    "name": "ipython",
    "version": 3
   },
   "file_extension": ".py",
   "mimetype": "text/x-python",
   "name": "python",
   "nbconvert_exporter": "python",
   "pygments_lexer": "ipython3",
   "version": "3.10.10"
  }
 },
 "nbformat": 4,
 "nbformat_minor": 5
}
