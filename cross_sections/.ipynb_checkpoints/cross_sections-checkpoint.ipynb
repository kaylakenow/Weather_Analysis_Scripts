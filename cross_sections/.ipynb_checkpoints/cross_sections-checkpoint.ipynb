{
 "cells": [
  {
   "cell_type": "markdown",
   "id": "8cd441396f20ccaf",
   "metadata": {},
   "source": [
    "# ATSC-411 - SYNOPTIC METEOROLOGY | PV LAB\n",
    "\n",
    "\n",
    "**************\n",
    "\n",
    "## IMPORT LIBRARIES\n"
   ]
  },
  {
   "cell_type": "code",
   "execution_count": 1,
   "id": "initial_id",
   "metadata": {
    "ExecuteTime": {
     "end_time": "2024-11-06T17:58:41.227193Z",
     "start_time": "2024-11-06T17:58:38.333067Z"
    },
    "tags": []
   },
   "outputs": [
    {
     "name": "stdout",
     "output_type": "stream",
     "text": [
      "[+] packages imported...\n"
     ]
    },
    {
     "name": "stderr",
     "output_type": "stream",
     "text": [
      "/research/modules/mpich/miniconda3/lib/python3.9/site-packages/paramiko/transport.py:219: CryptographyDeprecationWarning: Blowfish has been deprecated and will be removed in a future release\n",
      "  \"class\": algorithms.Blowfish,\n"
     ]
    }
   ],
   "source": [
    "# import packages\n",
    "import numpy as np                               # numpy for math & number operations\n",
    "import cartopy.crs as ccrs                       # cartopy coordinate refrence system for mapping -- to turn a matplotlib axis into a geoaxis (map)\n",
    "import cartopy.feature as cfeature               # cartopy features (borders, states, oceans, rivers, etc) for mapping -- add map components to a map\n",
    "import matplotlib.pyplot as plt                  # matplotlib for plotting figures, axes, graphs, etc\n",
    "from matplotlib.colors import LinearSegmentedColormap\n",
    "\n",
    "import helper_functions as helper\n",
    "import metpy.calc as mpcalc\n",
    "from metpy.units import units\n",
    "from metpy.interpolate import cross_section\n",
    "from metpy.interpolate import interpolate_to_isosurface\n",
    "\n",
    "print(\"[+] packages imported...\")"
   ]
  },
  {
   "cell_type": "markdown",
   "id": "31c7b7525e3e5ff7",
   "metadata": {},
   "source": [
    "**************\n",
    "\n",
    "## LOAD RAP REANALYSIS DATA FOR A GIVEN DATE"
   ]
  },
  {
   "cell_type": "code",
   "execution_count": 3,
   "id": "a18799d255283884",
   "metadata": {
    "ExecuteTime": {
     "end_time": "2024-11-06T18:19:49.934946Z",
     "start_time": "2024-11-06T18:16:56.959884Z"
    }
   },
   "outputs": [
    {
     "name": "stdout",
     "output_type": "stream",
     "text": [
      "> RAP REANALYSIS DATA ACCESS FUNCTION --\n",
      "-----------------------------------------\n",
      "> DATASET USED: RUC_25km\n",
      "{'Geopotential_height_EHLT', 'Vertical_velocity_pressure_layer_between_two_pressure_difference_from_ground_layer', 'u-component_of_wind_layer_between_two_pressure_difference_from_ground_layer', 'Geopotential_height_isobaric', 'Geopotential_height_LLTW', 'u-component_of_wind_isobaric', 'Pressure_HTFL', 'Relative_humidity_height_above_ground', 'Vertical_velocity_pressure_isobaric', 'Potential_temperature_height_above_ground', 'u-component_of_wind_tropopause', 'Pressure_zeroDegC_isotherm', 'Snow_depth_surface', 'Baseflow-groundwater_runoff_depth_below_surface', 'Pressure_surface', 'Categorical_ice_pellets_yes1_no0_surface', 'Convective_precipitation_surface_Mixed_intervals_Accumulation', 'Geopotential_height_surface', 'Planetary_boundary_layer_height_surface', 'Geometric_height_cloud_tops', 'Dew_point_temperature_height_above_ground', 'Temperature_surface', 'Categorical_snow_yes1_no0_surface', 'Temperature_tropopause', 'Pseudo-adiabatic_potential_temperature_or_equivalent_potential_temperature_surface', 'v-component_of_storm_motion_surface', 'u-component_of_wind_height_above_ground', 'Geopotential_height_CCTL', 'v-component_of_wind_tropopause', 'Water_equiv_of_accum_snow_depth_surface_0_Hour_Accumulation', 'v-component_of_wind_maximum_wind', 'v-component_of_wind_isobaric', 'Storm_relative_helicity_layer_between_two_heights_above_ground_layer', 'u-component_of_storm_motion_surface', 'Relative_humidity_HTFL', 'Convective_Available_Potential_Energy_layer_between_two_pressure_difference_from_ground_layer', 'Categorical_rain_yes1_no0_surface', 'Precipitation_rate_surface', 'Dew_point_depression_or_deficit_height_above_ground', 'Relative_humidity_layer_between_two_pressure_difference_from_ground_layer', 'Temperature_height_above_ground', 'Moisture_availability_surface', 'Precipitable_water_entire_atmosphere', 'Specific_humidity_height_above_ground', 'Absolute_vorticity_isobaric', 'Geopotential_height_zeroDegC_isotherm', 'Pressure_tropopause', 'Categorical_freezing_rain_yes1_no0_surface', 'v-component_of_wind_layer_between_two_pressure_difference_from_ground_layer', 'Visibility_surface', 'Best_lifted_index_to_500_hPa_surface', 'Potential_temperature_tropopause', 'Storm_relative_helicity_surface', 'Mean_Sea_Level_Pressure_MAPS_System_Reduction_msl', 'Temperature_layer_between_two_pressure_difference_from_ground_layer', 'Convective_inhibition_layer_between_two_pressure_difference_from_ground_layer', 'Pressure_MTHE', 'Relative_humidity_isobaric', 'Temperature_isobaric', 'Surface_lifted_index_surface', 'Large_scale_precipitation_non-conv_surface_Mixed_intervals_Accumulation', 'u-component_of_wind_maximum_wind', 'Convective_Available_Potential_Energy_surface', 'Convective_inhibition_surface', 'Geometric_height_cloud_base', 'Pressure_maximum_wind', 'v-component_of_wind_height_above_ground', 'Pressure_tendency_surface', 'Relative_humidity_zeroDegC_isotherm', 'Storm_surface_runoff_surface', 'Surface_wind_gust_surface', 'Geopotential_height_HTFL'}\n",
      "> COMPLETE --------\n",
      "> RUNTIME: 00:00:15\n",
      "\n",
      "[+] data load complete...\n"
     ]
    }
   ],
   "source": [
    "# date/time components\n",
    "year  = \"2023\"\n",
    "month = \"02\"\n",
    "day   = \"20\"\n",
    "hour  = \"18\"\n",
    "\n",
    "\n",
    "# load an `xarray` dataset of RAP reanalysis data\n",
    "# this will take a few seconds to load\n",
    "rap_data = helper.give_me_rap_data(year, month, day, hour)\n",
    "\n",
    "\n",
    "print(\"\\n[+] data load complete...\")"
   ]
  },
  {
   "cell_type": "markdown",
   "id": "fc2e0dc65e92e2d2",
   "metadata": {},
   "source": [
    "**************\n",
    "\n",
    "## Compute plan-view map variables\n",
    "#### Compute potential temperature, lat/lon grid deltas, potential vorticity, theta and wind on a 2PVU isosurface and geopotential hgt slices"
   ]
  },
  {
   "cell_type": "code",
   "execution_count": null,
   "id": "1b39857d-9a10-4c3a-b78a-e1aa04a06fb1",
   "metadata": {},
   "outputs": [],
   "source": [
    "print(rap_data)"
   ]
  },
  {
   "cell_type": "code",
   "execution_count": null,
   "id": "89c3e2cede7cac62",
   "metadata": {
    "ExecuteTime": {
     "end_time": "2024-11-06T18:20:35.522254Z",
     "start_time": "2024-11-06T18:20:33.943369Z"
    }
   },
   "outputs": [],
   "source": [
    "#################################\n",
    "# COMPUTE THETA AND PV\n",
    "################################# \n",
    "\n",
    "rap_data['dewpoint'] = mpcalc.dewpoint_from_relative_humidity(rap_data['Temperature_isobaric'], rap_data['Relative_humidity_isobaric'])\n",
    "# use metpy to compute theta & add it into the `rap-data` DataSet\n",
    "rap_data['theta'] = mpcalc.potential_temperature(rap_data['isobaric'],rap_data['Temperature_isobaric'])\n",
    "rap_data['theta_e'] = metpy.calc.equivalent_potential_temperature(rap_data['isobaric'],rap_data['Temperature_isobaric'],rap_data['dewpoint'])\n",
    "\n",
    "rap_data['wind_speed'] = mpcalc.wind_speed(rap_data['u-component_of_wind_isobaric'], rap_data['v-component_of_wind_isobaric'])\n",
    "\n",
    "# use metpy to compute latitude / longitude grid deltas (dx, dy) for PV calculation\n",
    "dx, dy = mpcalc.lat_lon_grid_deltas(rap_data['lon'].values, rap_data['lat'].values)\n",
    "\n",
    "# use metpy to compute PV and add it into the `rap_data` DataSet\n",
    "rap_data['pv'] = mpcalc.potential_vorticity_baroclinic(rap_data['theta'],\n",
    "                                                        rap_data['isobaric'],\n",
    "                                                        u=rap_data['u-component_of_wind_isobaric'],\n",
    "                                                        v=rap_data['v-component_of_wind_isobaric'],\n",
    "                                                        dx=dx[None, None, :, :], dy=dy[None, None, :, :],\n",
    "                                                        latitude=rap_data['lat'])\n",
    "\n",
    "thta_on_2pvu = interpolate_to_isosurface(rap_data['pv'].values, rap_data['theta'].values,  2*1e-6, bottom_up_search=True)\n",
    "u_on_2pvu    = interpolate_to_isosurface(rap_data['pv'][:,0,:,:].values, rap_data['u-component_of_wind_isobaric'][0,:,:,:].values, 2*1e-6, bottom_up_search=True)\n",
    "v_on_2pvu    = interpolate_to_isosurface(rap_data['pv'][:,0,:,:].values, rap_data['v-component_of_wind_isobaric'][0,:,:,:].values, 2*1e-6, bottom_up_search=True)\n",
    "\n",
    "#################################\n",
    "# DEFINE USEFUL PRESSURE LEVEL SLICES\n",
    "################################# \n",
    "# create variables that hold the \"index\" (location) of a given height in the isobaric dimension\n",
    "# i.e., 300 hPa is the 8th value in the isobaric dimension, use it to slice other variables\n",
    "plev250 = list(rap_data['isobaric']).index(((250 * units('hPa')).to(rap_data['isobaric'].units)).m)\n",
    "plev300 = list(rap_data['isobaric']).index(((300 * units('hPa')).to(rap_data['isobaric'].units)).m)\n",
    "plev500 = list(rap_data['isobaric']).index(((500 * units('hPa')).to(rap_data['isobaric'].units)).m)\n",
    "plev700 = list(rap_data['isobaric']).index(((700 * units('hPa')).to(rap_data['isobaric'].units)).m)\n",
    "plev850 = list(rap_data['isobaric']).index(((850 * units('hPa')).to(rap_data['isobaric'].units)).m)\n",
    "\n",
    "#################################\n",
    "# CREATE A TIDY DATE STRING\n",
    "################################# \n",
    "try:\n",
    "    data_date = rap_data['time'].values[0]\n",
    "except:\n",
    "    data_date = rap_data['time1'].values[0]\n",
    "    pass\n",
    "valid_date = f'{data_date}'\n",
    "\n",
    "print(\"\\n[+] plan view data preparation complete...\")"
   ]
  },
  {
   "cell_type": "markdown",
   "id": "8266e5f96822f219",
   "metadata": {},
   "source": [
    "**************\n",
    "\n",
    "## Define the `build_map()`, & `build_inset_map()` functions & create custom colormaps"
   ]
  },
  {
   "cell_type": "code",
   "execution_count": null,
   "id": "84a66fae5d237163",
   "metadata": {
    "ExecuteTime": {
     "end_time": "2024-11-06T18:21:02.182930Z",
     "start_time": "2024-11-06T18:21:02.162571Z"
    }
   },
   "outputs": [],
   "source": [
    "#--------------------------------------------------------------------------------------\n",
    "# BUILD MAPS FUNCTION -----------------------------------------------------------------\n",
    "#--------------------------------------------------------------------------------------\n",
    "# define build maps func\n",
    "def build_map(extent=[-121, -73, 21, 56]):\n",
    "    \n",
    "    fig = plt.figure(figsize=(16, 12))\n",
    "    ax = plt.axes(projection=ccrs.LambertConformal())\n",
    "\n",
    "    # apply the map extent (lat/lon bounding box)\n",
    "    ax.set_extent(extent)\n",
    "    # axis aspect ratio\n",
    "    ax.set_box_aspect(0.7)\n",
    "    # add map features\n",
    "    ax.add_feature(cfeature.STATES, edgecolor='navy', alpha=0.5, linestyle='-', linewidth=1, zorder=10)\n",
    "    ax.add_feature(cfeature.BORDERS, color='navy', alpha=1, linestyle='-', linewidth=1, zorder=11)\n",
    "    ax.add_feature(cfeature.COASTLINE, color='navy', alpha=0.5, linestyle='-', linewidth=1, zorder=11)\n",
    "\n",
    "    # apply tight layout to the figure (keeps things tiddy)\n",
    "    plt.tight_layout()\n",
    "\n",
    "    # return the figure axis\n",
    "    return fig, ax\n",
    "\n",
    "\n",
    "#--------------------------------------------------------------------------------------\n",
    "# BUILD INSET MAP FUNCTION -----------------------------------------------------------------\n",
    "#--------------------------------------------------------------------------------------\n",
    "def build_inset_map(extent=[-121, -73, 21, 56]):\n",
    "\n",
    "    # SET UP MAP INSET AXIS\n",
    "    proj = ccrs.LambertConformal()\n",
    "    ax = fig.add_axes([0.73, 0.712, 0.17, 0.17], projection=proj)\n",
    "    ax.set_box_aspect(0.7)\n",
    "    ax.set_extent(extent, ccrs.PlateCarree())\n",
    "\n",
    "    ax.add_feature(cfeature.COASTLINE, edgecolor='navy', linewidth=0.5)\n",
    "    ax.add_feature(cfeature.STATES, edgecolor='navy', linewidth=0.5)\n",
    "\n",
    "    return ax\n",
    "\n",
    "\n",
    "\n",
    "\n",
    "#--------------------------------------------------------------------------------------\n",
    "# DEFINE COLORMAPS    -----------------------------------------------------------------\n",
    "#--------------------------------------------------------------------------------------\n",
    "\n",
    "# wind speed colormap\n",
    "wdsp_colors = [(0.000, '#FFFFFF'),(0.004, '#87CEFA'),(0.166, '#6A5ACD'),(0.250, '#E696DC'),(0.333, '#C85ABE'),\n",
    "          (0.416, '#A01496'), (0.500, '#C80028'), (0.583, '#DC283C'), (0.666, '#F05050'),(0.750, '#FAF064'),\n",
    "          (0.833, '#DCBE46'), (0.916, '#BE8C28'),(1.000, '#A05A0A')]\n",
    "wdsp_cmap = LinearSegmentedColormap.from_list(\"custom_cmap\",wdsp_colors,N=256)\n",
    "\n",
    "# potential vorticity colormap\n",
    "pv_clevs  = np.append(np.arange(-1.4, 2, 0.2),np.arange(2,10.2,0.4))\n",
    "pv_colors = [\"blue\",\"lightblue\",\"lightblue\",\"yellow\",\"orange\",\"red\",\"darkred\"]\n",
    "pv_cmap   = LinearSegmentedColormap.from_list(\"custom_cmap\",pv_colors)\n",
    "\n",
    "# theta on the 2PVU surface colormap\n",
    "theta_2pvu_colors = [\"purple\",\"lightblue\",\"blue\",\"green\",\"yellow\",\"red\",\"darkred\"]\n",
    "theta_2pvu_cmap = LinearSegmentedColormap.from_list(\"custom_cmap\", theta_2pvu_colors)\n",
    "\n",
    "\n",
    "print(\"\\n[+] functions and colormaps created...\")\n"
   ]
  },
  {
   "cell_type": "markdown",
   "id": "74aee1fd5876372",
   "metadata": {},
   "source": [
    "**************\n",
    "\n",
    "## Surface Equivalent Potential Temperature, Winds, and Pressure"
   ]
  },
  {
   "cell_type": "code",
   "execution_count": null,
   "id": "dd1a69e24d419cbe",
   "metadata": {
    "ExecuteTime": {
     "end_time": "2024-11-06T18:21:23.372004Z",
     "start_time": "2024-11-06T18:21:17.846871Z"
    }
   },
   "outputs": [],
   "source": [
    "#################################\n",
    "# BUILD AXIS AND FIGURE\n",
    "#################################\n",
    "fig, ax = build_map()\n",
    "\n",
    "\n",
    "# define the level to slice\n",
    "slice = plev300\n",
    "\n",
    "\n",
    "\n",
    "#################################\n",
    "# PLOT DATA ON THE MAP\n",
    "#################################\n",
    "\n",
    "# plot filled contours of wind speed @ 300hPa\n",
    "contourf = ax.contourf(rap_data['lon'], rap_data['lat'], rap_data['wind_speed'][0,slice,:,:]* 1.94384, np.arange(40, 160, 5), extend='both',\n",
    "                 cmap=wdsp_cmap, alpha=0.7, transform=ccrs.PlateCarree(), zorder=4)\n",
    "\n",
    "\n",
    "\n",
    "# plot geopotential height contours\n",
    "contour = ax.contour(rap_data['lon'], rap_data['lat'], rap_data['Geopotential_height_isobaric'][0,slice,:,:], np.arange(0, 12000, 60),\n",
    "                colors='black', linewidths=3.0, linestyles='-',\n",
    "                transform=ccrs.PlateCarree(), zorder=11)\n",
    "plt.clabel(contour, fontsize=8, inline=1, inline_spacing=10, fmt='%i',\n",
    "           rightside_up=True, use_clabeltext=True)\n",
    "\n",
    "\n",
    "# plot wind barbs\n",
    "every = 20\n",
    "barbs = ax.barbs(rap_data['lon'].values[0::every, 0::every], rap_data['lat'].values[0::every, 0::every],\n",
    "                 rap_data['u-component_of_wind_isobaric'][0,slice,:,:].values[0::every, 0::every]* 1.94384, \n",
    "                 rap_data['v-component_of_wind_isobaric'][0,slice,:,:].values[0::every, 0::every]* 1.94384,\n",
    "                 length=6.5, alpha=0.7, transform=ccrs.PlateCarree(), zorder=12)\n",
    "\n",
    "\n",
    "# add some plot titles\n",
    "plt.title('  300-hPa GFS 300-hPa Geopotential Height (dam),\\n'\n",
    "          '  and Wind Barbs (kt)', loc='left', fontsize=20)\n",
    "plt.title(f'{valid_date[0:10]} {valid_date[11:-13]}UTC  ', loc='right', fontsize=20)\n",
    "\n",
    "\n",
    "# colorbar for filled contour\n",
    "cbar = plt.colorbar(contourf, aspect=70, fraction=0.02, ax=ax, orientation='horizontal', pad=-0.01, extendrect=True)\n",
    "cbar.set_label(r'Wind Speed (kts)', fontsize=15)\n",
    "\n",
    "print(\"\\n[+] plotting...\")"
   ]
  },
  {
   "cell_type": "markdown",
   "id": "6e674ab2d65bdc2f",
   "metadata": {},
   "source": [
    "# Plot a simple 300hPa PV map\n",
    "### Geopotential Height, Wind, Potential Vorticity"
   ]
  },
  {
   "cell_type": "code",
   "execution_count": null,
   "id": "ad19186ae70a463a",
   "metadata": {
    "ExecuteTime": {
     "end_time": "2024-11-06T18:21:45.453591Z",
     "start_time": "2024-11-06T18:21:31.696340Z"
    }
   },
   "outputs": [],
   "source": [
    "#################################\n",
    "# BUILD AXIS AND FIGURE\n",
    "#################################\n",
    "fig, ax = build_map()\n",
    "\n",
    "\n",
    "# define the level to slice\n",
    "slice = plev300\n",
    "\n",
    "\n",
    "\n",
    "#################################\n",
    "# PLOT DATA ON THE MAP\n",
    "#################################\n",
    "\n",
    "\n",
    "\n",
    "#################################\n",
    "# PLOT DATA ON THE MAP\n",
    "#################################\n",
    "contourf = ax.contourf(rap_data['lon'], rap_data['lat'], rap_data['pv'][slice,0,:,:]*1e6, pv_clevs, cmap=pv_cmap,\n",
    "                 transform=ccrs.PlateCarree(),extend='both')\n",
    "\n",
    "# plot a single dashed contour @ 2PVU\n",
    "pv_contour = ax.contour(rap_data['lon'], rap_data['lat'], rap_data['pv'][slice,0,:,:]*1e6, [2], colors='navy',linestyles='dashed',linewidths=2,\n",
    "                 transform=ccrs.PlateCarree())\n",
    "\n",
    "\n",
    "# plot geopotential height contours\n",
    "contour = ax.contour(rap_data['lon'], rap_data['lat'], rap_data['Geopotential_height_isobaric'][0,slice,:,:], np.arange(0, 12000, 60),\n",
    "                colors='black', linewidths=3.0, linestyles='-',\n",
    "                transform=ccrs.PlateCarree(), zorder=11)\n",
    "plt.clabel(contour, fontsize=8, inline=1, inline_spacing=10, fmt='%i',\n",
    "           rightside_up=True, use_clabeltext=True)\n",
    "\n",
    "\n",
    "# plot wind barbs\n",
    "every = 20\n",
    "barbs = ax.barbs(rap_data['lon'].values[0::every, 0::every], rap_data['lat'].values[0::every, 0::every],\n",
    "                 rap_data['u-component_of_wind_isobaric'][0,slice,:,:].values[0::every, 0::every]* 1.94384, \n",
    "                 rap_data['v-component_of_wind_isobaric'][0,slice,:,:].values[0::every, 0::every]* 1.94384,\n",
    "                 length=6.5, alpha=0.7, transform=ccrs.PlateCarree(), zorder=12)\n",
    "\n",
    "\n",
    "# add some plot titles\n",
    "plt.title('  300-hPa GFS PV (PVU), 300-hPa Geopotential Height (dam),\\n'\n",
    "          '  and Wind Barbs (kt)', loc='left', fontsize=20)\n",
    "plt.title(f'{valid_date[0:10]} {valid_date[11:-13]}UTC  ', loc='right', fontsize=20)\n",
    "\n",
    "# colorbar for filled contour\n",
    "cbar = plt.colorbar(contourf, aspect=70, fraction=0.02, ax=ax, orientation='horizontal', pad=-0.01, extendrect=True)\n",
    "cbar.set_label(r'Potential Vorticity Units (PVU; $\\rm{10^{-6}\\ K\\ kg^{-1}\\ m^{2}\\ s^{-1}})$' + ' | 2PVU (dashed)', fontsize=15)\n",
    "\n",
    "\n",
    "print(\"\\n[+] plotting...\")"
   ]
  },
  {
   "cell_type": "markdown",
   "id": "8610475b43425e5c",
   "metadata": {},
   "source": [
    "**************\n",
    "\n",
    "# **CROSS SECTION ANALYSIS**\n",
    "<br>\n",
    "\n",
    "#### 1. Use MetPy's `cross_section` to create variables of \"sliced\" cross section data\n",
    "#### 2. Plot cross section analyses of PV and static stability\n",
    "\n",
    "<br>\n",
    "<br>\n",
    "\n",
    "## 1. Compute Cross Section Data "
   ]
  },
  {
   "cell_type": "code",
   "execution_count": null,
   "id": "8383a6a6c646b327",
   "metadata": {
    "ExecuteTime": {
     "end_time": "2024-11-06T18:22:09.483262Z",
     "start_time": "2024-11-06T18:22:06.730795Z"
    }
   },
   "outputs": [],
   "source": [
    "#################################\n",
    "# COMPUTE CROSS SECTION USING METPY\n",
    "#################################\n",
    "# define the start and end point of the cross section\n",
    "start = (35, -125.0)\n",
    "end = (40, -80.0)\n",
    "\n",
    "# use metpy's `cross_section` to create a new DataSet of cross section \"2D\" data\n",
    "cs_data = cross_section(rap_data.metpy.parse_cf().squeeze(), start, end).set_coords(('lat', 'lon'))\n",
    "\n",
    "# using the cross section DataSet, calculate the normal component of the wind to the cross section plane\n",
    "cs_data['nwind'] = mpcalc.normal_component(cs_data['u-component_of_wind_isobaric'], cs_data['v-component_of_wind_isobaric'])\n",
    "\n",
    "# using metpy compute static stability \n",
    "static_stability = mpcalc.first_derivative(cs_data['theta'], axis=0, x=cs_data['isobaric'])\n",
    "\n",
    "print(\"\\n[+] data preparation complete...\")\n"
   ]
  },
  {
   "cell_type": "markdown",
   "id": "8c4dfd22a308440f",
   "metadata": {},
   "source": [
    "**************\n",
    "\n",
    "## 2a. PV Cross Section"
   ]
  },
  {
   "cell_type": "code",
   "execution_count": null,
   "id": "e2d9ecae45eef909",
   "metadata": {
    "ExecuteTime": {
     "end_time": "2024-11-06T18:22:41.983784Z",
     "start_time": "2024-11-06T18:22:28.485257Z"
    }
   },
   "outputs": [],
   "source": [
    "#################################\n",
    "# CREATE SIMPLE FIGURE\n",
    "#################################\n",
    "fig = plt.figure(1, figsize=(14, 10))\n",
    "ax = plt.subplot(111)\n",
    "\n",
    "\n",
    "#################################\n",
    "# PLOT CROSS SECTION DATA\n",
    "#################################\n",
    "# plot contourf of PV\n",
    "pv_contourf = plt.contourf(cs_data['lon'], cs_data['isobaric']/100, cs_data['pv']*1e6, pv_clevs, extend='both', cmap=pv_cmap)\n",
    "\n",
    "# plot contour of normal-wind to cross section plane, add labels\n",
    "nwnd_contour = plt.contour(cs_data['lon'], cs_data['isobaric']/100, cs_data['nwind']* 1.94384 , colors='black',linewidths=2)\n",
    "labels = plt.clabel(nwnd_contour, nwnd_contour.levels[::2], fontsize=10, inline=True,fmt = '%1.0f')\n",
    "for l in labels:\n",
    "    l.set_rotation(0)\n",
    "\n",
    "# plot 2PVU contour\n",
    "plt.contour(cs_data['lon'], cs_data['isobaric']/100, cs_data['pv']*1e6, [2],\n",
    "            colors='magenta',linewidths=3,linestyles='dashed')\n",
    "\n",
    "# plot theta contours\n",
    "plt.contour(cs_data['lon'], cs_data['isobaric']/100, cs_data['theta'], np.arange(280,500,10),\n",
    "            colors='white',linewidths=1)\n",
    "\n",
    "\n",
    "#################################\n",
    "# MANIPULATE PLOT AXIS, ADD GRID\n",
    "#################################\n",
    "ax.grid(True)\n",
    "ax.set_yscale('symlog')\n",
    "ax.set_ylim([1000,100])\n",
    "ax.set_yticklabels(np.arange(1000, 50, -100))\n",
    "ax.set_yticks(np.arange(1000, 50, -100))\n",
    "\n",
    "#################################\n",
    "# ADD PLOT AXIS LABELS AND TITLES\n",
    "#################################\n",
    "plt.ylabel('Pressure (hPa)')\n",
    "plt.xlabel(r'Longitude $\\rm{(^\\circ E)}$')\n",
    "plt.title('  RAP Vertical Cross Section\\n  Potential Vorticity (PVU), Normal Wind-Component (kts), Potential Temperature (K)', loc='left', fontsize=14)\n",
    "plt.title(f'{valid_date[0:10]} {valid_date[11:-13]}UTC  ', loc='right', fontsize=14)\n",
    "\n",
    "#################################\n",
    "# ADD FILLED CONTOUR COLORBAR\n",
    "#################################\n",
    "cbar = plt.colorbar(pv_contourf, aspect=70, fraction=0.02, ax=ax, orientation='horizontal', pad=0.07, extendrect=True)\n",
    "cbar.set_label(r'Potential Vorticity Units (PVU; $\\rm{10^{-6}\\ K\\ kg^{-1}\\ m^{2}\\ s^{-1}})$', fontsize=10)\n",
    "\n",
    "\n",
    "\n",
    "\n",
    "#################################\n",
    "# CREATE A 2ND AXIS TO PLOT TERRAIN\n",
    "#################################\n",
    "# Create the second axis, hide it, set y limit\n",
    "# plot sfc hghts - 1000hPa hght for a 1000hPa-100hPa yaxis \n",
    "ax2 = ax.twinx()\n",
    "ax2.get_yaxis().set_visible(False)   \n",
    "ax2.spines['right'].set_visible(False)\n",
    "ax2.set_ylim([0,15000])\n",
    "ax2.plot(cs_data['lon'], cs_data['Geopotential_height_surface'] - cs_data['Geopotential_height_isobaric'][-1], color='saddlebrown')\n",
    "ax2.fill_between(cs_data['lon'], 0, cs_data['Geopotential_height_surface']- cs_data['Geopotential_height_isobaric'][-1], color='saddlebrown')\n",
    "\n",
    "\n",
    "\n",
    "\n",
    "#################################\n",
    "# BUILD AND PLOT MAP INSET\n",
    "#################################\n",
    "inset_ax = build_inset_map()\n",
    "# define map projection\n",
    "inset_projection = ccrs.LambertConformal()\n",
    "\n",
    "# PLOT CROSS SECTION POINTS\n",
    "endpoints = inset_projection.transform_points(ccrs.Geodetic(),*np.vstack([start, end]).transpose()[::-1])\n",
    "inset_ax.scatter(endpoints[:, 0], endpoints[:, 1], c='k', zorder=2)\n",
    "inset_ax.plot(endpoints[:,0], endpoints[:,1], c='k', zorder=2, lw=2)\n",
    "\n",
    "# PLOT 300hPa GEOPOTENTIAL HEIGHTS CONTOUR\n",
    "cs = inset_ax.contour(rap_data['lon'], rap_data['lat'], rap_data['Geopotential_height_isobaric'][0, plev300, :, :], np.arange(0, 18000, 60),\n",
    "                      colors='black',transform=ccrs.PlateCarree(), linewidths=1)\n",
    "\n",
    "# PLOT 300hPa PV CONTOURF\n",
    "inset_contourf = inset_ax.contourf(rap_data['lon'], rap_data['lat'], rap_data['pv'][plev300, 0, :, :]*1e6, pv_clevs, cmap=pv_cmap,\n",
    "                                   transform=ccrs.PlateCarree(), extend='both')\n",
    "\n",
    "print(\"\\n[+] plotting...\")\n"
   ]
  },
  {
   "cell_type": "markdown",
   "id": "5b257e75dd79ef47",
   "metadata": {},
   "source": [
    "**************\n",
    "\n",
    "## 2b. Static stability cross section"
   ]
  },
  {
   "cell_type": "code",
   "execution_count": null,
   "id": "3541ee76b70775d7",
   "metadata": {
    "ExecuteTime": {
     "end_time": "2024-11-06T18:25:38.358077Z",
     "start_time": "2024-11-06T18:25:25.126825Z"
    }
   },
   "outputs": [],
   "source": [
    "#################################\n",
    "# CREATE SIMPLE FIGURE\n",
    "#################################\n",
    "fig = plt.figure(1, figsize=(14, 10))\n",
    "ax = plt.subplot(111)\n",
    "\n",
    "\n",
    "#################################\n",
    "# PLOT CROSS SECTION DATA\n",
    "#################################\n",
    "# plot static stability as a filled contour\n",
    "static_stability_contourf = plt.contourf(cs_data['lon'], cs_data['isobaric']/100, static_stability*-1,\n",
    "                                         np.arange(0, 0.015, 0.0005), extend='both', cmap='brg')\n",
    "for l in labels:\n",
    "    l.set_rotation(0)\n",
    "\n",
    "\n",
    "# plot 2PVU contour\n",
    "plt.contour(cs_data['lon'], cs_data['isobaric']/100, cs_data['pv']*1e6, [2],\n",
    "            colors='magenta',linewidths=3,linestyles='dashed')\n",
    "\n",
    "# plot theta contours\n",
    "plt.contour(cs_data['lon'], cs_data['isobaric']/100, cs_data['theta'], np.arange(280,500,10),\n",
    "            colors='white',linewidths=1)\n",
    "\n",
    "\n",
    "\n",
    "\n",
    "#################################\n",
    "# MANIPULATE PLOT AXIS, ADD GRID\n",
    "#################################\n",
    "ax.grid(True)\n",
    "ax.set_yscale('symlog')\n",
    "ax.set_ylim([1000,100])\n",
    "ax.set_yticklabels(np.arange(1000, 50, -100))\n",
    "ax.set_yticks(np.arange(1000, 50, -100))\n",
    "\n",
    "#################################\n",
    "# ADD PLOT AXIS LABELS AND TITLES\n",
    "#################################\n",
    "plt.ylabel('Pressure (hPa)')\n",
    "plt.xlabel(r'Longitude $\\rm{(^\\circ E)}$')\n",
    "plt.title('  RAP Vertical Cross Section\\n  Static Stability '+r'$\\rm{(\\frac{K}{hPa})}$'+', Potential Temperature (K), 2PVU', loc='left', fontsize=14)\n",
    "plt.title(f'{valid_date[0:10]} {valid_date[11:-13]}UTC  ', loc='right', fontsize=14)\n",
    "\n",
    "#################################\n",
    "# ADD FILLED CONTOUR COLORBAR\n",
    "#################################\n",
    "cbar = plt.colorbar(static_stability_contourf, aspect=70, fraction=0.02, ax=ax, orientation='horizontal', pad=0.07, extendrect=True)\n",
    "cbar.set_label(r'$\\rm{\\frac{\\partial \\theta}{\\partial p}\\ (\\frac{K}{hPa})}$'+' | 2PVU (dashed)', fontsize=12)\n",
    "\n",
    "\n",
    "\n",
    "\n",
    "\n",
    "\n",
    "#################################\n",
    "# CREATE A 2ND AXIS TO PLOT TERRAIN\n",
    "#################################\n",
    "# Create the second axis, hide it, set y limit\n",
    "# plot sfc hghts - 1000hPa hght for a 1000hPa-100hPa yaxis \n",
    "ax2 = ax.twinx()\n",
    "ax2.get_yaxis().set_visible(False)   \n",
    "ax2.spines['right'].set_visible(False)\n",
    "ax2.set_ylim([0,15000])\n",
    "ax2.plot(cs_data['lon'], cs_data['Geopotential_height_surface'] - cs_data['Geopotential_height_isobaric'][-1], color='saddlebrown')\n",
    "ax2.fill_between(cs_data['lon'], 0, cs_data['Geopotential_height_surface']- cs_data['Geopotential_height_isobaric'][-1], color='saddlebrown')\n",
    "\n",
    "\n",
    "\n",
    "\n",
    "\n",
    "#################################\n",
    "# BUILD AND PLOT MAP INSET\n",
    "#################################\n",
    "inset_ax = build_inset_map()\n",
    "# define map projection\n",
    "inset_projection = ccrs.LambertConformal()\n",
    "\n",
    "# PLOT CROSS SECTION POINTS\n",
    "endpoints = inset_projection.transform_points(ccrs.Geodetic(),*np.vstack([start, end]).transpose()[::-1])\n",
    "inset_ax.scatter(endpoints[:, 0], endpoints[:, 1], c='k', zorder=2)\n",
    "inset_ax.plot(endpoints[:,0], endpoints[:,1], c='k', zorder=2, lw=2)\n",
    "\n",
    "# PLOT 300hPa GEOPOTENTIAL HEIGHTS CONTOUR\n",
    "cs = inset_ax.contour(rap_data['lon'], rap_data['lat'], rap_data['Geopotential_height_isobaric'][0, plev300, :, :], np.arange(0, 18000, 60),\n",
    "                      colors='black',transform=ccrs.PlateCarree(), linewidths=1)\n",
    "\n",
    "# PLOT 300hPa PV CONTOURF\n",
    "inset_contourf = inset_ax.contourf(rap_data['lon'], rap_data['lat'], rap_data['pv'][plev300, 0, :, :]*1e6, pv_clevs, cmap=pv_cmap,\n",
    "                                   transform=ccrs.PlateCarree(), extend='both')"
   ]
  },
  {
   "cell_type": "markdown",
   "id": "f977f420663c6d1e",
   "metadata": {},
   "source": [
    "**************\n",
    "\n",
    "# **C. ANALYZE DATA ON THE 2PVU ISOSURFACE**\n",
    "#### 1. Calculate theta, u, & v on the 2PVU surface\n",
    "#### 2. Plot a plan-view map of the 2PVU surface\n",
    "\n",
    "<br>\n",
    "\n",
    "## 1. Compute variables on the 2PVU isosurface"
   ]
  },
  {
   "cell_type": "code",
   "execution_count": null,
   "id": "1b1ce0d5e65198b1",
   "metadata": {
    "ExecuteTime": {
     "end_time": "2024-11-06T18:50:16.197167Z",
     "start_time": "2024-11-06T18:50:16.011603Z"
    }
   },
   "outputs": [],
   "source": [
    "# use metpy to compute values of theta, u, & v on an isosurface, where the isosurface is the 2PVU surface\n",
    "thta_on_2pvu = interpolate_to_isosurface(rap_data['pv'].values, \n",
    "                                         rap_data['theta'].values,  2*1e-6, bottom_up_search=True)\n",
    "u_on_2pvu    = interpolate_to_isosurface(rap_data['pv'][:,0,:,:].values, \n",
    "                                         rap_data['u-component_of_wind_isobaric'][0,:,:,:].values, 2*1e-6, bottom_up_search=True)* 1.94384\n",
    "v_on_2pvu    = interpolate_to_isosurface(rap_data['pv'][:,0,:,:].values, \n",
    "                                         rap_data['v-component_of_wind_isobaric'][0,:,:,:].values, 2*1e-6, bottom_up_search=True)* 1.94384"
   ]
  },
  {
   "cell_type": "markdown",
   "id": "f0aaf2fc978f0bbd",
   "metadata": {},
   "source": [
    "<br>\n",
    "\n",
    "## 2. Plot a plan-view map of the 2PVU isosurface"
   ]
  },
  {
   "cell_type": "code",
   "execution_count": null,
   "id": "22bd8cef0f6e622",
   "metadata": {
    "ExecuteTime": {
     "end_time": "2024-11-06T18:50:36.501400Z",
     "start_time": "2024-11-06T18:50:20.048570Z"
    }
   },
   "outputs": [],
   "source": [
    "#################################\n",
    "# BUILD MAP FIGURE\n",
    "#################################\n",
    "fig, ax = build_map()\n",
    "\n",
    "contourf = ax.contourf(rap_data['lon'], rap_data['lat'], thta_on_2pvu, np.arange(280,421,3), cmap=theta_2pvu_cmap,\n",
    "                 transform=ccrs.PlateCarree(), extend='both',alpha=.5)\n",
    "\n",
    "# plot wind barbs\n",
    "every = 20\n",
    "barbs = ax.barbs(rap_data['lon'].values[0::every, 0::every], rap_data['lat'].values[0::every, 0::every],\n",
    "                 u_on_2pvu[0::every, 0::every], v_on_2pvu[0::every, 0::every],\n",
    "                 length=6.5, alpha=0.7, transform=ccrs.PlateCarree(), zorder=12)\n",
    "\n",
    "\n",
    "# add some plot titles\n",
    "plt.title('  2-PVU-Isosurface Potential Temperature (K), Wind Barbs (kt)', loc='left', fontsize=20)\n",
    "plt.title(f'{valid_date[0:10]} {valid_date[11:-13]}UTC  ', loc='right', fontsize=20)\n",
    "\n",
    "# colorbar for filled contour\n",
    "cbar = plt.colorbar(contourf, aspect=70, fraction=0.02, ax=ax, orientation='horizontal', pad=-0.01, extendrect=True)\n",
    "cbar.set_label(r'2-PVU-Isosurface Potential Temperature ($\\rm{K}$)', fontsize=15)"
   ]
  }
 ],
 "metadata": {
  "kernelspec": {
   "display_name": "MPICH",
   "language": "python",
   "name": "mpich"
  },
  "language_info": {
   "codemirror_mode": {
    "name": "ipython",
    "version": 3
   },
   "file_extension": ".py",
   "mimetype": "text/x-python",
   "name": "python",
   "nbconvert_exporter": "python",
   "pygments_lexer": "ipython3",
   "version": "3.9.19"
  }
 },
 "nbformat": 4,
 "nbformat_minor": 5
}
